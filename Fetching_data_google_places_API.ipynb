{
 "cells": [
  {
   "cell_type": "markdown",
   "metadata": {},
   "source": [
    "# Fetching the raw data from google places API by passing the coordinates of the cluster centroid and delivery radius as 5km  "
   ]
  },
  {
   "cell_type": "code",
   "execution_count": 2,
   "metadata": {},
   "outputs": [],
   "source": [
    "import pandas as pd \n",
    "import googlemaps\n",
    "import pprint\n",
    "import json\n",
    "import time\n",
    "import xlsxwriter\n",
    "import functools\n",
    "import operator\n",
    "from collections import Counter \n",
    "from itertools import chain "
   ]
  },
  {
   "cell_type": "code",
   "execution_count": null,
   "metadata": {},
   "outputs": [],
   "source": [
    "#IMPORTING DATA\n",
    "df = pd.read_excel('lat_long_google_api.xlsx')\n",
    "rslt_df= df.copy()"
   ]
  },
  {
   "cell_type": "code",
   "execution_count": null,
   "metadata": {},
   "outputs": [],
   "source": [
    "# Define our API Key\n",
    "API_KEY = 'Enter your API key'"
   ]
  },
  {
   "cell_type": "code",
   "execution_count": null,
   "metadata": {},
   "outputs": [],
   "source": [
    "# Define our Client \n",
    "gmaps = googlemaps.Client(key = API_KEY)"
   ]
  },
  {
   "cell_type": "markdown",
   "metadata": {},
   "source": [
    "## Below code is the Call for the Places API and the result will be stored in a dictionary, we will take the key = store_id, value = result fetched for the corresponding store from the places API"
   ]
  },
  {
   "cell_type": "markdown",
   "metadata": {},
   "source": [
    "### Dict \"d\" will contain the raw data corresponding to the coordinate(lat,long)"
   ]
  },
  {
   "cell_type": "code",
   "execution_count": null,
   "metadata": {},
   "outputs": [],
   "source": [
    "d= dict()   #ALL THE RAW DATA WOULD BE STORED IN DICTIONARY CORRESPONDING TO THE LATITUDE OF THE STORE\n",
    "d[rslt_df['store_id'][0]]=dict()  #Taking store latitude as the \n",
    "for i in range(len(rslt_df)):\n",
    "     lat= rslt_df['store_latitude'][i]\n",
    "     lon= rslt_df['store_longitude'][i]     \n",
    "     d[rslt_df['store_id'][i]]  = gmaps.places_nearby(location='{},{}'.format(lat,lon), radius = 5000, open_now =False ) #not giving type parameter so it will give all types in the result\n",
    "     time.sleep(5)  \n",
    "     print(d[rslt_df['store_id'][i]]) "
   ]
  },
  {
   "cell_type": "markdown",
   "metadata": {},
   "source": [
    "# Fetched data with the index as cluster number"
   ]
  },
  {
   "cell_type": "code",
   "execution_count": null,
   "metadata": {},
   "outputs": [],
   "source": [
    "    def no_of_lodges_or_eqv(d,key):\n",
    "        \n",
    "        \n",
    "        rawdata=[]    \n",
    "        for i in range(len(d[key]['results'])):\n",
    "            rawdata.append(d[key]['results'][i]['types'])\n",
    "                   \n",
    "        rawdata = functools.reduce(operator.iconcat, rawdata, [])\n",
    "        rawdata = CountFrequency(rawdata) \n",
    "        return rawdata"
   ]
  },
  {
   "cell_type": "code",
   "execution_count": null,
   "metadata": {},
   "outputs": [],
   "source": [
    "    def CountFrequency(my_list): \n",
    "      \n",
    "        # Creating an empty dictionary  \n",
    "        freq = {} \n",
    "        for item in my_list: \n",
    "            if (item in freq): \n",
    "                freq[item] += 1\n",
    "            else: \n",
    "                freq[item] = 1\n",
    "      \n",
    "        return freq \n",
    "\n"
   ]
  },
  {
   "cell_type": "code",
   "execution_count": null,
   "metadata": {},
   "outputs": [],
   "source": [
    "#############\n",
    "df_podcast=pd.DataFrame(columns=['atm', 'bakery', 'bank', 'establishment', 'finance', 'food', 'health', 'hospital', 'locality', 'point_of_interest', 'political', 'real_estate_agency', 'spa', 'store', 'sublocality', 'sublocality_level_1'])\n",
    "###########"
   ]
  },
  {
   "cell_type": "code",
   "execution_count": 4,
   "metadata": {},
   "outputs": [
    {
     "data": {
      "text/html": [
       "<div>\n",
       "<style scoped>\n",
       "    .dataframe tbody tr th:only-of-type {\n",
       "        vertical-align: middle;\n",
       "    }\n",
       "\n",
       "    .dataframe tbody tr th {\n",
       "        vertical-align: top;\n",
       "    }\n",
       "\n",
       "    .dataframe thead th {\n",
       "        text-align: right;\n",
       "    }\n",
       "</style>\n",
       "<table border=\"1\" class=\"dataframe\">\n",
       "  <thead>\n",
       "    <tr style=\"text-align: right;\">\n",
       "      <th></th>\n",
       "      <th>atm</th>\n",
       "      <th>bakery</th>\n",
       "      <th>bank</th>\n",
       "      <th>finance</th>\n",
       "      <th>food</th>\n",
       "      <th>gas_station</th>\n",
       "      <th>grocery_or_supermarket</th>\n",
       "      <th>health</th>\n",
       "      <th>hospital</th>\n",
       "      <th>locality</th>\n",
       "      <th>lodging</th>\n",
       "      <th>pharmacy</th>\n",
       "      <th>point_of_interest</th>\n",
       "      <th>political</th>\n",
       "      <th>restaurant</th>\n",
       "      <th>store</th>\n",
       "    </tr>\n",
       "  </thead>\n",
       "  <tbody>\n",
       "    <tr>\n",
       "      <td>0</td>\n",
       "      <td>NaN</td>\n",
       "      <td>NaN</td>\n",
       "      <td>NaN</td>\n",
       "      <td>NaN</td>\n",
       "      <td>NaN</td>\n",
       "      <td>NaN</td>\n",
       "      <td>NaN</td>\n",
       "      <td>1.0</td>\n",
       "      <td>1.0</td>\n",
       "      <td>2</td>\n",
       "      <td>NaN</td>\n",
       "      <td>NaN</td>\n",
       "      <td>1</td>\n",
       "      <td>2</td>\n",
       "      <td>NaN</td>\n",
       "      <td>NaN</td>\n",
       "    </tr>\n",
       "    <tr>\n",
       "      <td>1</td>\n",
       "      <td>4.0</td>\n",
       "      <td>1.0</td>\n",
       "      <td>4.0</td>\n",
       "      <td>5.0</td>\n",
       "      <td>1.0</td>\n",
       "      <td>NaN</td>\n",
       "      <td>NaN</td>\n",
       "      <td>3.0</td>\n",
       "      <td>3.0</td>\n",
       "      <td>1</td>\n",
       "      <td>NaN</td>\n",
       "      <td>NaN</td>\n",
       "      <td>18</td>\n",
       "      <td>2</td>\n",
       "      <td>NaN</td>\n",
       "      <td>1.0</td>\n",
       "    </tr>\n",
       "    <tr>\n",
       "      <td>2</td>\n",
       "      <td>NaN</td>\n",
       "      <td>NaN</td>\n",
       "      <td>1.0</td>\n",
       "      <td>1.0</td>\n",
       "      <td>NaN</td>\n",
       "      <td>NaN</td>\n",
       "      <td>NaN</td>\n",
       "      <td>1.0</td>\n",
       "      <td>NaN</td>\n",
       "      <td>1</td>\n",
       "      <td>9.0</td>\n",
       "      <td>1.0</td>\n",
       "      <td>18</td>\n",
       "      <td>2</td>\n",
       "      <td>NaN</td>\n",
       "      <td>1.0</td>\n",
       "    </tr>\n",
       "    <tr>\n",
       "      <td>3</td>\n",
       "      <td>NaN</td>\n",
       "      <td>NaN</td>\n",
       "      <td>1.0</td>\n",
       "      <td>1.0</td>\n",
       "      <td>4.0</td>\n",
       "      <td>1.0</td>\n",
       "      <td>2.0</td>\n",
       "      <td>4.0</td>\n",
       "      <td>2.0</td>\n",
       "      <td>2</td>\n",
       "      <td>2.0</td>\n",
       "      <td>1.0</td>\n",
       "      <td>18</td>\n",
       "      <td>2</td>\n",
       "      <td>1.0</td>\n",
       "      <td>4.0</td>\n",
       "    </tr>\n",
       "    <tr>\n",
       "      <td>4</td>\n",
       "      <td>2.0</td>\n",
       "      <td>1.0</td>\n",
       "      <td>3.0</td>\n",
       "      <td>3.0</td>\n",
       "      <td>5.0</td>\n",
       "      <td>4.0</td>\n",
       "      <td>NaN</td>\n",
       "      <td>NaN</td>\n",
       "      <td>NaN</td>\n",
       "      <td>2</td>\n",
       "      <td>NaN</td>\n",
       "      <td>NaN</td>\n",
       "      <td>18</td>\n",
       "      <td>2</td>\n",
       "      <td>2.0</td>\n",
       "      <td>3.0</td>\n",
       "    </tr>\n",
       "  </tbody>\n",
       "</table>\n",
       "</div>"
      ],
      "text/plain": [
       "   atm  bakery  bank  finance  food  gas_station  grocery_or_supermarket  \\\n",
       "0  NaN     NaN   NaN      NaN   NaN          NaN                     NaN   \n",
       "1  4.0     1.0   4.0      5.0   1.0          NaN                     NaN   \n",
       "2  NaN     NaN   1.0      1.0   NaN          NaN                     NaN   \n",
       "3  NaN     NaN   1.0      1.0   4.0          1.0                     2.0   \n",
       "4  2.0     1.0   3.0      3.0   5.0          4.0                     NaN   \n",
       "\n",
       "   health  hospital  locality  lodging  pharmacy  point_of_interest  \\\n",
       "0     1.0       1.0         2      NaN       NaN                  1   \n",
       "1     3.0       3.0         1      NaN       NaN                 18   \n",
       "2     1.0       NaN         1      9.0       1.0                 18   \n",
       "3     4.0       2.0         2      2.0       1.0                 18   \n",
       "4     NaN       NaN         2      NaN       NaN                 18   \n",
       "\n",
       "   political  restaurant  store  \n",
       "0          2         NaN    NaN  \n",
       "1          2         NaN    1.0  \n",
       "2          2         NaN    1.0  \n",
       "3          2         1.0    4.0  \n",
       "4          2         2.0    3.0  "
      ]
     },
     "execution_count": 4,
     "metadata": {},
     "output_type": "execute_result"
    }
   ],
   "source": [
    "df_podcast.head()"
   ]
  },
  {
   "cell_type": "markdown",
   "metadata": {},
   "source": [
    "This is the final transformed data fetched from the google places API"
   ]
  },
  {
   "cell_type": "code",
   "execution_count": null,
   "metadata": {},
   "outputs": [],
   "source": []
  }
 ],
 "metadata": {
  "kernelspec": {
   "display_name": "Python 3",
   "language": "python",
   "name": "python3"
  },
  "language_info": {
   "codemirror_mode": {
    "name": "ipython",
    "version": 3
   },
   "file_extension": ".py",
   "mimetype": "text/x-python",
   "name": "python",
   "nbconvert_exporter": "python",
   "pygments_lexer": "ipython3",
   "version": "3.7.4"
  }
 },
 "nbformat": 4,
 "nbformat_minor": 2
}
